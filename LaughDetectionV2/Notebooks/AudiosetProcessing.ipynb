{
 "cells": [
  {
   "cell_type": "markdown",
   "metadata": {},
   "source": [
    "# Creating an Audioset subset\n",
    "\n",
    "First, we need to download the full [Audioset](https://research.google.com/audioset/download.html) dataset. This is about 2.5GB so it may take some time to download.\n",
    "\n",
    "### NOTE: The Audioset data is stored with filenames that are case sensitive. If you are using a filesystem with case-insensitive filenames (such as macOS) 75% of the dataset will be overwritten when you decompress the archive. You should only run this on a Linux machine."
   ]
  },
  {
   "cell_type": "code",
   "execution_count": 16,
   "metadata": {
    "colab": {
     "autoexec": {
      "startup": false,
      "wait_interval": 0
     },
     "base_uri": "https://localhost:8080/",
     "height": 204
    },
    "colab_type": "code",
    "executionInfo": {
     "elapsed": 21133,
     "status": "ok",
     "timestamp": 1518663653368,
     "user": {
      "displayName": "Nat Steinsultz",
      "photoUrl": "//lh4.googleusercontent.com/-9Tna6IlSkLo/AAAAAAAAAAI/AAAAAAAAAAg/11Jr2zilxLs/s50-c-k-no/photo.jpg",
      "userId": "102680445917950785792"
     },
     "user_tz": 360
    },
    "id": "eAFdIlX3Zpsw",
    "outputId": "b2592378-6579-44b1-c377-aac2a9270959"
   },
   "outputs": [
    {
     "name": "stdout",
     "output_type": "stream",
     "text": [
      "✅ Tải thành công: features.tar.gz\n"
     ]
    }
   ],
   "source": [
    "import urllib.request\n",
    "\n",
    "url = 'http://storage.googleapis.com/us_audioset/youtube_corpus/v1/features/features.tar.gz'\n",
    "output_file = 'features.tar.gz'\n",
    "\n",
    "urllib.request.urlretrieve(url, output_file)\n",
    "print(f\"✅ Tải thành công: {output_file}\")\n"
   ]
  },
  {
   "cell_type": "code",
   "execution_count": 17,
   "metadata": {
    "colab": {
     "autoexec": {
      "startup": false,
      "wait_interval": 0
     },
     "base_uri": "https://localhost:8080/",
     "height": 204
    },
    "colab_type": "code",
    "executionInfo": {
     "elapsed": 1787,
     "status": "ok",
     "timestamp": 1518664658001,
     "user": {
      "displayName": "Nat Steinsultz",
      "photoUrl": "//lh4.googleusercontent.com/-9Tna6IlSkLo/AAAAAAAAAAI/AAAAAAAAAAg/11Jr2zilxLs/s50-c-k-no/photo.jpg",
      "userId": "102680445917950785792"
     },
     "user_tz": 360
    },
    "id": "09kPxKx3d1H2",
    "outputId": "1d6a9739-5f0d-4823-8587-a2c76613a6e5"
   },
   "outputs": [
    {
     "name": "stdout",
     "output_type": "stream",
     "text": [
      "✅ Tải thành công: unbalanced_train_segments.csv\n"
     ]
    }
   ],
   "source": [
    "import urllib.request\n",
    "\n",
    "url = 'http://storage.googleapis.com/us_audioset/youtube_corpus/v1/csv/unbalanced_train_segments.csv'\n",
    "output_file = 'unbalanced_train_segments.csv'\n",
    "\n",
    "urllib.request.urlretrieve(url, output_file)\n",
    "print(f\"✅ Tải thành công: {output_file}\")"
   ]
  },
  {
   "cell_type": "code",
   "execution_count": null,
   "metadata": {
    "colab": {
     "autoexec": {
      "startup": false,
      "wait_interval": 0
     }
    },
    "colab_type": "code",
    "id": "aXx7QrjraAVB"
   },
   "outputs": [
    {
     "name": "stdout",
     "output_type": "stream",
     "text": [
      "🧹 Đã xoá thư mục cũ (nếu có).\n",
      "✅ Giải nén thành công vào thư mục tạm: features_tmp\n",
      "⚠️ Không tìm thấy eval, có thể thiếu trong file nén.\n",
      "⚠️ Không tìm thấy unbalanced_train, có thể thiếu trong file nén.\n",
      "⚠️ Không tìm thấy balanced_train, có thể thiếu trong file nén.\n",
      "❌ eval không tồn tại.\n",
      "❌ unbal_train không tồn tại.\n",
      "❌ bal_train không tồn tại.\n",
      "🎉 Hoàn tất quá trình giải nén và tổ chức thư mục.\n"
     ]
    }
   ],
   "source": [
    "import os\n",
    "import tarfile\n",
    "import shutil\n",
    "\n",
    "# ====== Cấu hình ======\n",
    "FEATURES_TAR_PATH = \"features.tar.gz\"  # Đường dẫn file nén gốc\n",
    "TEMP_EXTRACT_DIR = \"features_tmp\"      # Thư mục giải nén tạm\n",
    "DEST_DIR = \"audioset_v1_embeddings\"    # Thư mục chứa kết quả\n",
    "PARTS = {\n",
    "    \"audioset_v1_embeddings/eval\": \"eval\",\n",
    "    \"audioset_v1_embeddings/unbal_train\": \"unbal_train\",\n",
    "    \"audioset_v1_embeddings/bal_train\": \"bal_train\"\n",
    "}\n",
    "\n",
    "# ====== Bước 1: Xoá thư mục đích nếu đã tồn tại ======\n",
    "if os.path.exists(TEMP_EXTRACT_DIR):\n",
    "    shutil.rmtree(TEMP_EXTRACT_DIR)\n",
    "if os.path.exists(DEST_DIR):\n",
    "    shutil.rmtree(DEST_DIR)\n",
    "\n",
    "print(\"🧹 Đã xoá thư mục cũ (nếu có).\")\n",
    "\n",
    "# ====== Bước 2: Giải nén vào thư mục tạm ======\n",
    "with tarfile.open(FEATURES_TAR_PATH, \"r:gz\") as tar:\n",
    "    tar.extractall(TEMP_EXTRACT_DIR)\n",
    "\n",
    "print(\"✅ Giải nén thành công vào thư mục tạm:\", TEMP_EXTRACT_DIR)\n",
    "\n",
    "# ====== Bước 3: Di chuyển từng phần vào thư mục đích ======\n",
    "os.makedirs(DEST_DIR, exist_ok=True)\n",
    "\n",
    "for src_name, dest_name in PARTS.items():\n",
    "    src_path = os.path.join(TEMP_EXTRACT_DIR, src_name)\n",
    "    dest_path = os.path.join(DEST_DIR, dest_name)\n",
    "    if os.path.exists(src_path):\n",
    "        shutil.move(src_path, dest_path)\n",
    "        print(f\"✅ Đã di chuyển: {src_name} ➜ {dest_path}\")\n",
    "    else:\n",
    "        print(f\"⚠️ Không tìm thấy {src_name}, có thể thiếu trong file nén.\")\n",
    "\n",
    "# ====== Bước 4: Kiểm tra kết quả ======\n",
    "for _, folder in PARTS.items():\n",
    "    final_path = os.path.join(DEST_DIR, folder)\n",
    "    if os.path.exists(final_path):\n",
    "        count = len(os.listdir(final_path))\n",
    "        print(f\"📁 {folder}: {count} file(s)\")\n",
    "    else:\n",
    "        print(f\"❌ {folder} không tồn tại.\")\n",
    "\n",
    "print(\"🎉 Hoàn tất quá trình giải nén và tổ chức thư mục.\")\n"
   ]
  },
  {
   "cell_type": "code",
   "execution_count": 19,
   "metadata": {
    "colab": {
     "autoexec": {
      "startup": false,
      "wait_interval": 0
     }
    },
    "colab_type": "code",
    "id": "oTrM4K8ZaGed"
   },
   "outputs": [],
   "source": [
    "%matplotlib inline\n",
    "import matplotlib.pyplot as plt\n",
    "import numpy as np\n",
    "import tensorflow as tf\n",
    "import pandas as pd\n",
    "import glob\n"
   ]
  },
  {
   "cell_type": "markdown",
   "metadata": {},
   "source": [
    "In order to run this on a linux machine, I used this notebook in [Google Colaboratory](https://colab.research.google.com/)\n",
    "The following cells are for the uploading of necessary files to the colab instance.\n",
    "If you are running this locally, you can skip this section"
   ]
  },
  {
   "cell_type": "code",
   "execution_count": 15,
   "metadata": {
    "colab": {
     "autoexec": {
      "startup": false,
      "wait_interval": 0
     },
     "base_uri": "https://localhost:8080/",
     "height": 137,
     "resources": {
      "http://localhost:8080/nbextensions/google.colab/files.js": {
       "data": "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",
       "headers": [
        [
         "content-type",
         "application/javascript"
        ]
       ],
       "ok": true,
       "status": 200,
       "status_text": ""
      }
     }
    },
    "colab_type": "code",
    "executionInfo": {
     "elapsed": 25771,
     "status": "ok",
     "timestamp": 1518664623531,
     "user": {
      "displayName": "Nat Steinsultz",
      "photoUrl": "//lh4.googleusercontent.com/-9Tna6IlSkLo/AAAAAAAAAAI/AAAAAAAAAAg/11Jr2zilxLs/s50-c-k-no/photo.jpg",
      "userId": "102680445917950785792"
     },
     "user_tz": 360
    },
    "id": "QgoREGe4aKAx",
    "outputId": "dee9713e-a55f-4061-c0e4-f4b864dd7a95"
   },
   "outputs": [
    {
     "ename": "ModuleNotFoundError",
     "evalue": "No module named 'google.colab'",
     "output_type": "error",
     "traceback": [
      "\u001b[31m---------------------------------------------------------------------------\u001b[39m",
      "\u001b[31mModuleNotFoundError\u001b[39m                       Traceback (most recent call last)",
      "\u001b[36mCell\u001b[39m\u001b[36m \u001b[39m\u001b[32mIn[15]\u001b[39m\u001b[32m, line 1\u001b[39m\n\u001b[32m----> \u001b[39m\u001b[32m1\u001b[39m \u001b[38;5;28;01mfrom\u001b[39;00m\u001b[38;5;250m \u001b[39m\u001b[34;01mgoogle\u001b[39;00m\u001b[34;01m.\u001b[39;00m\u001b[34;01mcolab\u001b[39;00m\u001b[38;5;250m \u001b[39m\u001b[38;5;28;01mimport\u001b[39;00m files\n\u001b[32m      3\u001b[39m uploaded = files.upload()\n\u001b[32m      5\u001b[39m \u001b[38;5;28;01mfor\u001b[39;00m fn \u001b[38;5;129;01min\u001b[39;00m uploaded.keys():\n",
      "\u001b[31mModuleNotFoundError\u001b[39m: No module named 'google.colab'"
     ]
    }
   ],
   "source": [
    "from google.colab import files\n",
    "\n",
    "uploaded = files.upload()\n",
    "\n",
    "for fn in uploaded.keys():\n",
    "  print('User uploaded file \"{name}\" with length {length} bytes'.format(\n",
    "      name=fn, length=len(uploaded[fn])))\n",
    "  "
   ]
  },
  {
   "cell_type": "code",
   "execution_count": null,
   "metadata": {
    "colab": {
     "autoexec": {
      "startup": false,
      "wait_interval": 0
     }
    },
    "colab_type": "code",
    "id": "pfWIZw4LdCVd"
   },
   "outputs": [],
   "source": [
    "for k,v in uploaded.items():\n",
    "  with open(k,'wb') as f:\n",
    "    f.write(v)"
   ]
  },
  {
   "cell_type": "code",
   "execution_count": null,
   "metadata": {
    "colab": {
     "autoexec": {
      "startup": false,
      "wait_interval": 0
     },
     "base_uri": "https://localhost:8080/",
     "height": 34
    },
    "colab_type": "code",
    "executionInfo": {
     "elapsed": 203,
     "status": "ok",
     "timestamp": 1518664717178,
     "user": {
      "displayName": "Nat Steinsultz",
      "photoUrl": "//lh4.googleusercontent.com/-9Tna6IlSkLo/AAAAAAAAAAI/AAAAAAAAAAg/11Jr2zilxLs/s50-c-k-no/photo.jpg",
      "userId": "102680445917950785792"
     },
     "user_tz": 360
    },
    "id": "dTHg2W0Fddkb",
    "outputId": "3e20eedc-55b5-4cd9-cf32-768a166822d1"
   },
   "outputs": [],
   "source": [
    "uploaded.keys()"
   ]
  },
  {
   "cell_type": "markdown",
   "metadata": {},
   "source": [
    "Here is where the laughter and not laughter labels are loaded from local .csv files.\n",
    "If you want to create a subset using a different category of labels, create new files containing a list of the labels you want to select as your positive and negative classes. You can find a list of all the Audioset labels [here](class_labels_indices.csv)"
   ]
  },
  {
   "cell_type": "code",
   "execution_count": 21,
   "metadata": {
    "colab": {
     "autoexec": {
      "startup": false,
      "wait_interval": 0
     }
    },
    "colab_type": "code",
    "id": "im5PYxY7cbfS"
   },
   "outputs": [],
   "source": [
    "labels = pd.read_csv('unbalanced_train_segments.csv',header=2, quotechar=r'\"',skipinitialspace=True)\n",
    "laugh_labels = pd.read_csv('laugh_labels.csv',names=['num','label','description'])\n",
    "not_laugh_labels = pd.read_csv('human_non_laugh_labels.csv',names=['num','label','description'])\n",
    "l_str = '|'.join(laugh_labels['label'].values)"
   ]
  },
  {
   "cell_type": "code",
   "execution_count": 22,
   "metadata": {
    "colab": {
     "autoexec": {
      "startup": false,
      "wait_interval": 0
     }
    },
    "colab_type": "code",
    "id": "S2jVW6gBe_Zs"
   },
   "outputs": [],
   "source": [
    "n_str = '|'.join(not_laugh_labels['label'].values)\n",
    "labels['not_laughter'] = (labels['positive_labels'].str.contains(n_str) & ~labels['positive_labels'].str.contains(l_str))"
   ]
  },
  {
   "cell_type": "markdown",
   "metadata": {
    "colab_type": "text",
    "id": "pRwCubHqerke"
   },
   "source": [
    "## Eval set"
   ]
  },
  {
   "cell_type": "code",
   "execution_count": 26,
   "metadata": {
    "colab": {
     "autoexec": {
      "startup": false,
      "wait_interval": 0
     },
     "base_uri": "https://localhost:8080/",
     "height": 85
    },
    "colab_type": "code",
    "executionInfo": {
     "elapsed": 4564,
     "status": "ok",
     "timestamp": 1518664952689,
     "user": {
      "displayName": "Nat Steinsultz",
      "photoUrl": "//lh4.googleusercontent.com/-9Tna6IlSkLo/AAAAAAAAAAI/AAAAAAAAAAg/11Jr2zilxLs/s50-c-k-no/photo.jpg",
      "userId": "102680445917950785792"
     },
     "user_tz": 360
    },
    "id": "nCB70idMep7B",
    "outputId": "e732ed52-b5c4-4574-b38f-3100d23dd542"
   },
   "outputs": [
    {
     "name": "stdout",
     "output_type": "stream",
     "text": [
      "Tổng số mẫu: 586\n",
      "WARNING:tensorflow:From <timed exec>:34: tf_record_iterator (from tensorflow.python.lib.io.tf_record) is deprecated and will be removed in a future version.\n",
      "Instructions for updating:\n",
      "Use eager execution and: \n",
      "`tf.data.TFRecordDataset(path)`\n",
      "✅ Số TFRecord đã ghi: 209\n",
      "CPU times: total: 1.97 s\n",
      "Wall time: 4.46 s\n"
     ]
    }
   ],
   "source": [
    "%%time\n",
    "import pandas as pd\n",
    "import tensorflow as tf\n",
    "import glob\n",
    "\n",
    "# ===== BƯỚC 1: Định nghĩa nhãn tiếng cười và không cười =====\n",
    "laugh_labels = pd.read_csv('laugh_labels.csv', names=['num','label','description'])\n",
    "not_laugh_labels = pd.read_csv('human_non_laugh_labels.csv', names=['num','label','description'])\n",
    "\n",
    "l_str = '|'.join(laugh_labels['label'].values)\n",
    "n_str = '|'.join(not_laugh_labels['label'].values)\n",
    "\n",
    "# ===== BƯỚC 2: Đọc eval_segments và tạo nhãn =====\n",
    "labels = pd.read_csv('eval_segments.csv', header=2, quotechar='\"', skipinitialspace=True)\n",
    "labels['laughter'] = labels['positive_labels'].str.contains(l_str)\n",
    "labels['not_laughter'] = (labels['positive_labels'].str.contains(n_str) & ~labels['positive_labels'].str.contains(l_str))\n",
    "\n",
    "# ===== BƯỚC 3: Lấy mẫu dữ liệu dương (có tiếng cười) và âm =====\n",
    "positive = labels[labels['laughter'] == True]\n",
    "negative = labels[labels['not_laughter'] == True].sample(positive.shape[0], random_state=42)\n",
    "\n",
    "# ===== BƯỚC 4: Gộp lại thành tập huấn luyện và lưu file CSV =====\n",
    "subset = pd.concat([positive, negative], ignore_index=True)\n",
    "subset.to_csv('eval_laugh_speech_training_subset.csv', index=False)\n",
    "print(f\"Tổng số mẫu: {subset.shape[0]}\")\n",
    "\n",
    "# ===== BƯỚC 5: Lọc TFRecord chứa các đoạn trong subset =====\n",
    "files = glob.glob('audioset_v1_embeddings/eval/*')\n",
    "subset_ids = set(subset['# YTID'].values)\n",
    "\n",
    "i = 0\n",
    "writer = tf.io.TFRecordWriter('eval_laugh_speech_subset.tfrecord')\n",
    "\n",
    "for tfrecord in files:\n",
    "    for example in tf.compat.v1.io.tf_record_iterator(tfrecord):\n",
    "        tf_example = tf.train.Example.FromString(example)\n",
    "        vid_id = tf_example.features.feature['video_id'].bytes_list.value[0].decode('utf-8')\n",
    "        if vid_id in subset_ids:\n",
    "            writer.write(example)\n",
    "            i += 1\n",
    "\n",
    "writer.close()\n",
    "print(f\"✅ Số TFRecord đã ghi: {i}\")\n"
   ]
  },
  {
   "cell_type": "markdown",
   "metadata": {
    "colab_type": "text",
    "id": "cZOO4I1lfo_9"
   },
   "source": [
    "## train set"
   ]
  },
  {
   "cell_type": "code",
   "execution_count": 27,
   "metadata": {
    "colab": {
     "autoexec": {
      "startup": false,
      "wait_interval": 0
     },
     "base_uri": "https://localhost:8080/",
     "height": 102
    },
    "colab_type": "code",
    "executionInfo": {
     "elapsed": 2653,
     "status": "ok",
     "timestamp": 1518665260047,
     "user": {
      "displayName": "Nat Steinsultz",
      "photoUrl": "//lh4.googleusercontent.com/-9Tna6IlSkLo/AAAAAAAAAAI/AAAAAAAAAAg/11Jr2zilxLs/s50-c-k-no/photo.jpg",
      "userId": "102680445917950785792"
     },
     "user_tz": 360
    },
    "id": "WeaHS0MhfJTB",
    "outputId": "bdb2190f-83e9-4ac8-87f8-4d9d4292c349"
   },
   "outputs": [
    {
     "name": "stdout",
     "output_type": "stream",
     "text": [
      "Defaulting to user installation because normal site-packages is not writeable\n",
      "Requirement already satisfied: tqdm in c:\\users\\admin\\appdata\\roaming\\python\\python312\\site-packages (4.67.1)\n",
      "Requirement already satisfied: colorama in c:\\users\\admin\\appdata\\roaming\\python\\python312\\site-packages (from tqdm) (0.4.6)\n"
     ]
    },
    {
     "name": "stderr",
     "output_type": "stream",
     "text": [
      "\n",
      "[notice] A new release of pip is available: 25.0.1 -> 25.1.1\n",
      "[notice] To update, run: python.exe -m pip install --upgrade pip\n"
     ]
    }
   ],
   "source": [
    "!pip install tqdm\n",
    "from tqdm import tqdm"
   ]
  },
  {
   "cell_type": "markdown",
   "metadata": {},
   "source": [
    "#### Warning: The audioset dataset is large and this will take a while to run. It took about 2 hours to process."
   ]
  },
  {
   "cell_type": "code",
   "execution_count": 29,
   "metadata": {
    "colab": {
     "autoexec": {
      "startup": false,
      "wait_interval": 0
     },
     "base_uri": "https://localhost:8080/",
     "height": 69938
    },
    "colab_type": "code",
    "executionInfo": {
     "elapsed": 7126100,
     "status": "ok",
     "timestamp": 1518672617492,
     "user": {
      "displayName": "Nat Steinsultz",
      "photoUrl": "//lh4.googleusercontent.com/-9Tna6IlSkLo/AAAAAAAAAAI/AAAAAAAAAAg/11Jr2zilxLs/s50-c-k-no/photo.jpg",
      "userId": "102680445917950785792"
     },
     "user_tz": 360
    },
    "id": "43ETqxdwdXrg",
    "outputId": "e510a2ea-cee4-4fd4-baed-807f3e8d9e35"
   },
   "outputs": [
    {
     "name": "stdout",
     "output_type": "stream",
     "text": [
      "18768\n"
     ]
    },
    {
     "name": "stderr",
     "output_type": "stream",
     "text": [
      "100%|██████████| 1444/1444 [00:06<00:00, 226.60it/s]\n"
     ]
    },
    {
     "name": "stdout",
     "output_type": "stream",
     "text": [
      "✅ Tổng TFRecord ghi: 6900\n",
      "CPU times: total: 2.92 s\n",
      "Wall time: 9.31 s\n"
     ]
    }
   ],
   "source": [
    "%%time\n",
    "import pandas as pd\n",
    "import tensorflow as tf\n",
    "import glob\n",
    "from tqdm import tqdm\n",
    "\n",
    "# Đọc file nhãn\n",
    "labels = pd.read_csv('unbalanced_train_segments.csv', header=2, quotechar='\"', skipinitialspace=True)\n",
    "\n",
    "# Giả sử bạn đã có 2 DataFrame: laugh_labels và not_laugh_labels\n",
    "l_str = '|'.join(laugh_labels['label'].values)\n",
    "n_str = '|'.join(not_laugh_labels['label'].values)\n",
    "\n",
    "# Gán nhãn cười và không cười\n",
    "labels['laughter'] = labels['positive_labels'].str.contains(l_str)\n",
    "labels['not_laughter'] = (labels['positive_labels'].str.contains(n_str) & ~labels['positive_labels'].str.contains(l_str))\n",
    "\n",
    "# Lấy mẫu\n",
    "positive = labels[labels['laughter'] == True]\n",
    "negative = labels[labels['not_laughter'] == True].sample(positive.shape[0], random_state=42)\n",
    "\n",
    "# Gộp 2 nhóm và lưu\n",
    "subset = pd.concat([positive, negative], ignore_index=True)\n",
    "subset.to_csv('laugh_speech_training_subset.csv', index=False)\n",
    "print(subset.shape[0])\n",
    "\n",
    "# Lọc TFRecord\n",
    "files = glob.glob('audioset_v1_embeddings/unbal_train/*')\n",
    "subset_ids = set(subset['# YTID'].values)\n",
    "\n",
    "i = 0\n",
    "writer = tf.io.TFRecordWriter('bal_laugh_speech_subset.tfrecord')\n",
    "\n",
    "for tfrecord in tqdm(files):\n",
    "    for example in tf.compat.v1.io.tf_record_iterator(tfrecord):\n",
    "        tf_example = tf.train.Example.FromString(example)\n",
    "        vid_id = tf_example.features.feature['video_id'].bytes_list.value[0].decode('utf-8')\n",
    "        if vid_id in subset_ids:\n",
    "            writer.write(example)\n",
    "            i += 1\n",
    "\n",
    "writer.close()\n",
    "print(f\"✅ Tổng TFRecord ghi: {i}\")\n"
   ]
  },
  {
   "cell_type": "markdown",
   "metadata": {},
   "source": [
    "This is only necessary if you want to download from Colab"
   ]
  },
  {
   "cell_type": "code",
   "execution_count": 30,
   "metadata": {
    "colab": {
     "autoexec": {
      "startup": false,
      "wait_interval": 0
     }
    },
    "colab_type": "code",
    "id": "5iFO2Pq8gKgM"
   },
   "outputs": [
    {
     "ename": "ModuleNotFoundError",
     "evalue": "No module named 'google.colab'",
     "output_type": "error",
     "traceback": [
      "\u001b[31m---------------------------------------------------------------------------\u001b[39m",
      "\u001b[31mModuleNotFoundError\u001b[39m                       Traceback (most recent call last)",
      "\u001b[36mCell\u001b[39m\u001b[36m \u001b[39m\u001b[32mIn[30]\u001b[39m\u001b[32m, line 1\u001b[39m\n\u001b[32m----> \u001b[39m\u001b[32m1\u001b[39m \u001b[38;5;28;01mfrom\u001b[39;00m\u001b[38;5;250m \u001b[39m\u001b[34;01mgoogle\u001b[39;00m\u001b[34;01m.\u001b[39;00m\u001b[34;01mcolab\u001b[39;00m\u001b[38;5;250m \u001b[39m\u001b[38;5;28;01mimport\u001b[39;00m files\n\u001b[32m      2\u001b[39m files.download(\u001b[33m'\u001b[39m\u001b[33mbal_laugh_speech_subset.tfrecord\u001b[39m\u001b[33m'\u001b[39m)\n",
      "\u001b[31mModuleNotFoundError\u001b[39m: No module named 'google.colab'"
     ]
    }
   ],
   "source": [
    "from google.colab import files\n",
    "files.download('bal_laugh_speech_subset.tfrecord')"
   ]
  },
  {
   "cell_type": "code",
   "execution_count": null,
   "metadata": {
    "colab": {
     "autoexec": {
      "startup": false,
      "wait_interval": 0
     }
    },
    "colab_type": "code",
    "id": "a6DHWY9C_P4i"
   },
   "outputs": [],
   "source": [
    "files.download('eval_laugh_speech_subset.tfrecord')"
   ]
  },
  {
   "cell_type": "code",
   "execution_count": null,
   "metadata": {
    "colab": {
     "autoexec": {
      "startup": false,
      "wait_interval": 0
     }
    },
    "colab_type": "code",
    "id": "GCTW3g2W_pBa"
   },
   "outputs": [],
   "source": []
  }
 ],
 "metadata": {
  "colab": {
   "default_view": {},
   "name": "Audioset_Processing.ipynb",
   "provenance": [],
   "version": "0.3.2",
   "views": {}
  },
  "kernelspec": {
   "display_name": "Python 3",
   "language": "python",
   "name": "python3"
  },
  "language_info": {
   "codemirror_mode": {
    "name": "ipython",
    "version": 3
   },
   "file_extension": ".py",
   "mimetype": "text/x-python",
   "name": "python",
   "nbconvert_exporter": "python",
   "pygments_lexer": "ipython3",
   "version": "3.12.0"
  }
 },
 "nbformat": 4,
 "nbformat_minor": 2
}
